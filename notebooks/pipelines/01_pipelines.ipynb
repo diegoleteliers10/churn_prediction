{
 "cells": [
  {
   "cell_type": "code",
   "execution_count": 1,
   "id": "9a1c1f15",
   "metadata": {},
   "outputs": [
    {
     "name": "stdout",
     "output_type": "stream",
     "text": [
      "=== CHURN PREDICTION PIPELINE ===\n",
      "Pipeline para predecir churn de nuevos clientes\n"
     ]
    }
   ],
   "source": [
    "import pandas as pd\n",
    "import numpy as np\n",
    "import joblib\n",
    "from sklearn.preprocessing import LabelEncoder\n",
    "import warnings\n",
    "warnings.filterwarnings('ignore')\n",
    "\n",
    "print(\"=== CHURN PREDICTION PIPELINE ===\")\n",
    "print(\"Pipeline para predecir churn de nuevos clientes\")"
   ]
  },
  {
   "cell_type": "code",
   "execution_count": 2,
   "id": "1fa7ecc6",
   "metadata": {},
   "outputs": [
    {
     "name": "stdout",
     "output_type": "stream",
     "text": [
      "✅ Modelo y encoders cargados correctamente\n",
      "Modelo: XGBClassifier\n",
      "Encoders disponibles: ['gender', 'Partner', 'Dependents', 'PhoneService', 'MultipleLines', 'InternetService', 'OnlineSecurity', 'OnlineBackup', 'DeviceProtection', 'TechSupport', 'StreamingTV', 'StreamingMovies', 'Contract', 'PaperlessBilling', 'PaymentMethod', 'TotalCharges', 'tenure_group']\n"
     ]
    }
   ],
   "source": [
    "# Cargar modelo entrenado\n",
    "model = joblib.load('../../models/trained/churn_model_xgb.pkl')\n",
    "label_encoders = joblib.load('../../models/encoders/label_encoders.pkl')\n",
    "\n",
    "print(\"✅ Modelo y encoders cargados correctamente\")\n",
    "print(f\"Modelo: {type(model).__name__}\")\n",
    "print(f\"Encoders disponibles: {list(label_encoders.keys())}\")"
   ]
  },
  {
   "cell_type": "code",
   "execution_count": 7,
   "id": "13d25ad7",
   "metadata": {},
   "outputs": [],
   "source": [
    "def preprocess_new_customer(customer_data):\n",
    "    \"\"\"\n",
    "    Preprocesa datos de un nuevo cliente para predicción\n",
    "    \"\"\"\n",
    "    # Crear DataFrame\n",
    "    df_new = pd.DataFrame([customer_data])\n",
    "    \n",
    "# 1. Crear tenure_group\n",
    "    def assign_tenure_group(tenure):\n",
    "        if tenure < 12:\n",
    "            return 'Nuevos (<1 año)'\n",
    "        elif tenure < 24:\n",
    "            return 'Establecidos (1-2 años)'\n",
    "        else:\n",
    "            return 'Veteranos (2+ años)'\n",
    "    \n",
    "    df_new['tenure_group'] = df_new['tenure'].apply(assign_tenure_group)\n",
    "    \n",
    "    # 2. Crear total_services (usando la misma lógica que antes)\n",
    "    def count_services(row):\n",
    "        count = 0\n",
    "        if row['PhoneService'] == 'Yes':\n",
    "            count += 1\n",
    "        if row['MultipleLines'] == 'Yes':\n",
    "            count += 1\n",
    "        if row['InternetService'] in ['DSL', 'Fiber optic']:\n",
    "            count += 1\n",
    "        if row['OnlineSecurity'] == 'Yes':\n",
    "            count += 1\n",
    "        if row['OnlineBackup'] == 'Yes':\n",
    "            count += 1\n",
    "        if row['DeviceProtection'] == 'Yes':\n",
    "            count += 1\n",
    "        if row['TechSupport'] == 'Yes':\n",
    "            count += 1\n",
    "        if row['StreamingTV'] == 'Yes':\n",
    "            count += 1\n",
    "        if row['StreamingMovies'] == 'Yes':\n",
    "            count += 1\n",
    "        return count\n",
    "    \n",
    "    df_new['total_services'] = df_new.apply(count_services, axis=1)\n",
    "    \n",
    "    # 3. Quitar customerID\n",
    "    if 'customerID' in df_new.columns:\n",
    "        X = df_new.drop(['customerID'], axis=1)\n",
    "    else:\n",
    "        X = df_new.copy()\n",
    "    \n",
    "    # Identificar categóricas\n",
    "    categorical_features = X.select_dtypes(include=['object']).columns.tolist()\n",
    "    \n",
    "    X_encoded = X.copy()\n",
    "    \n",
    "    # Aplicar encoders YA ENTRENADOS (solo transform, NO fit_transform)\n",
    "    for col in categorical_features:\n",
    "        if col in label_encoders:\n",
    "            # Manejar valores no vistos en entrenamiento\n",
    "            try:\n",
    "                X_encoded[col] = label_encoders[col].transform(X[col])\n",
    "            except ValueError:\n",
    "                print(f\"⚠️ Valor desconocido en {col}: {X[col].iloc[0]}\")\n",
    "                # Asignar valor por defecto (ej: 0)\n",
    "                X_encoded[col] = 0\n",
    "    \n",
    "    return X_encoded"
   ]
  },
  {
   "cell_type": "code",
   "execution_count": 10,
   "id": "133fabc6",
   "metadata": {},
   "outputs": [],
   "source": [
    "def predict_churn(customer_data, threshold=0.4):\n",
    "    \"\"\"\n",
    "    Predice la probabilidad de churn de un cliente\n",
    "    \n",
    "    Args:\n",
    "        customer_data: dict con datos del cliente\n",
    "        threshold: umbral de decisión (default: 0.4)\n",
    "    \n",
    "    Returns:\n",
    "        dict con predicción, probabilidad y explicación\n",
    "    \"\"\"\n",
    "    # Preprocesar datos\n",
    "    X_processed = preprocess_new_customer(customer_data)\n",
    "    \n",
    "    # Obtener probabilidades\n",
    "    churn_proba = model.predict_proba(X_processed)[0, 1]  # Probabilidad de churn\n",
    "    \n",
    "    # Hacer predicción con threshold\n",
    "    will_churn = churn_proba >= threshold\n",
    "    \n",
    "    # Crear resultado\n",
    "    result = {\n",
    "        'customer_id': customer_data.get('customerID', 'Unknown'),\n",
    "        'churn_probability': float(round(churn_proba, 4)),  # Convertir a float nativo\n",
    "        'will_churn': bool(will_churn),                     # Convertir a bool nativo\n",
    "        'risk_level': get_risk_level(churn_proba),\n",
    "        'confidence': 'High' if abs(churn_proba - 0.5) > 0.3 else 'Medium' if abs(churn_proba - 0.5) > 0.15 else 'Low'\n",
    "    }\n",
    "    \n",
    "    return result\n",
    "\n",
    "def get_risk_level(probability):\n",
    "    \"\"\"Clasifica el riesgo basado en probabilidad\"\"\"\n",
    "    if probability >= 0.7:\n",
    "        return 'High Risk'\n",
    "    elif probability >= 0.4:\n",
    "        return 'Medium Risk'\n",
    "    else:\n",
    "        return 'Low Risk'"
   ]
  },
  {
   "cell_type": "code",
   "execution_count": 11,
   "id": "2a523792",
   "metadata": {},
   "outputs": [
    {
     "name": "stdout",
     "output_type": "stream",
     "text": [
      "=== TESTE DE PREDICCIÓN ===\n",
      "{'customer_id': 'TEST001', 'churn_probability': 0.9103000164031982, 'will_churn': True, 'risk_level': 'High Risk', 'confidence': 'High'}\n"
     ]
    }
   ],
   "source": [
    "# Ejemplo de cliente con alta probabilidad de churn\n",
    "test_customer_high_risk = {\n",
    "    'customerID': 'TEST001',\n",
    "    'gender': 'Male',\n",
    "    'SeniorCitizen': 0,\n",
    "    'Partner': 'No',\n",
    "    'Dependents': 'No',\n",
    "    'tenure': 2,  # Cliente nuevo (alta probabilidad de churn)\n",
    "    'PhoneService': 'Yes',\n",
    "    'MultipleLines': 'No',\n",
    "    'InternetService': 'Fiber optic',\n",
    "    'OnlineSecurity': 'No',  # Sin servicios adicionales\n",
    "    'OnlineBackup': 'No',\n",
    "    'DeviceProtection': 'No',\n",
    "    'TechSupport': 'No',\n",
    "    'StreamingTV': 'No',\n",
    "    'StreamingMovies': 'No',\n",
    "    'Contract': 'Month-to-month',  # ¡El mayor predictor de churn!\n",
    "    'PaperlessBilling': 'Yes',\n",
    "    'PaymentMethod': 'Electronic check',  # Método con más churn\n",
    "    'MonthlyCharges': 85.0,  # Alto para pocos servicios\n",
    "    'TotalCharges': 170.0\n",
    "}\n",
    "\n",
    "# Probar la predicción\n",
    "print(\"=== TESTE DE PREDICCIÓN ===\")\n",
    "result = predict_churn(test_customer_high_risk)\n",
    "print(result)"
   ]
  },
  {
   "cell_type": "code",
   "execution_count": 12,
   "id": "3d7510c8",
   "metadata": {},
   "outputs": [
    {
     "name": "stdout",
     "output_type": "stream",
     "text": [
      "=== CLIENTE ALTO RIESGO ===\n",
      "{'customer_id': 'TEST001', 'churn_probability': 0.9103000164031982, 'will_churn': True, 'risk_level': 'High Risk', 'confidence': 'High'}\n",
      "\n",
      "=== CLIENTE BAJO RIESGO ===\n",
      "{'customer_id': 'TEST002', 'churn_probability': 0.03579999879002571, 'will_churn': False, 'risk_level': 'Low Risk', 'confidence': 'High'}\n"
     ]
    }
   ],
   "source": [
    "# Ejemplo de cliente con BAJA probabilidad de churn\n",
    "test_customer_low_risk = {\n",
    "    'customerID': 'TEST002',\n",
    "    'gender': 'Female',\n",
    "    'SeniorCitizen': 0,\n",
    "    'Partner': 'Yes',           # Tiene pareja (factor protector)\n",
    "    'Dependents': 'Yes',        # Tiene dependientes (factor protector)\n",
    "    'tenure': 36,               # Cliente veterano (baja probabilidad de churn)\n",
    "    'PhoneService': 'Yes',\n",
    "    'MultipleLines': 'Yes',     # Múltiples servicios\n",
    "    'InternetService': 'Fiber optic',\n",
    "    'OnlineSecurity': 'Yes',    # Servicios adicionales de seguridad\n",
    "    'OnlineBackup': 'Yes',\n",
    "    'DeviceProtection': 'Yes',\n",
    "    'TechSupport': 'Yes',       # Soporte técnico\n",
    "    'StreamingTV': 'Yes',\n",
    "    'StreamingMovies': 'Yes',\n",
    "    'Contract': 'Two year',     # ¡Contrato de 2 años! (mayor protección)\n",
    "    'PaperlessBilling': 'No',   # Billing tradicional (menos churn)\n",
    "    'PaymentMethod': 'Credit card (automatic)',  # Método con menos churn\n",
    "    'MonthlyCharges': 95.0,     # Alto pero justificado por muchos servicios\n",
    "    'TotalCharges': 3420.0      # Cliente de largo plazo\n",
    "}\n",
    "\n",
    "# Probar ambos clientes\n",
    "print(\"=== CLIENTE ALTO RIESGO ===\")\n",
    "result_high = predict_churn(test_customer_high_risk)\n",
    "print(result_high)\n",
    "\n",
    "print(\"\\n=== CLIENTE BAJO RIESGO ===\")\n",
    "result_low = predict_churn(test_customer_low_risk)\n",
    "print(result_low)"
   ]
  }
 ],
 "metadata": {
  "kernelspec": {
   "display_name": "venv",
   "language": "python",
   "name": "python3"
  },
  "language_info": {
   "codemirror_mode": {
    "name": "ipython",
    "version": 3
   },
   "file_extension": ".py",
   "mimetype": "text/x-python",
   "name": "python",
   "nbconvert_exporter": "python",
   "pygments_lexer": "ipython3",
   "version": "3.13.5"
  }
 },
 "nbformat": 4,
 "nbformat_minor": 5
}
