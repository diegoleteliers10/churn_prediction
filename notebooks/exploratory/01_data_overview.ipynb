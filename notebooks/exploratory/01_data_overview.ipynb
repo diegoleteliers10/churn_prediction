{
 "cells": [
  {
   "cell_type": "code",
   "execution_count": null,
   "id": "0cb18ead",
   "metadata": {},
   "outputs": [
    {
     "ename": "ModuleNotFoundError",
     "evalue": "No module named 'utils.config_manager'; 'utils' is not a package",
     "output_type": "error",
     "traceback": [
      "\u001b[31m---------------------------------------------------------------------------\u001b[39m",
      "\u001b[31mModuleNotFoundError\u001b[39m                       Traceback (most recent call last)",
      "\u001b[36mCell\u001b[39m\u001b[36m \u001b[39m\u001b[32mIn[1]\u001b[39m\u001b[32m, line 21\u001b[39m\n\u001b[32m     18\u001b[39m project_root, src_path = setup_project_paths()\n\u001b[32m     20\u001b[39m \u001b[38;5;66;03m# Ahora importar las utilidades\u001b[39;00m\n\u001b[32m---> \u001b[39m\u001b[32m21\u001b[39m \u001b[38;5;28;01mfrom\u001b[39;00m\u001b[38;5;250m \u001b[39m\u001b[34;01mutils\u001b[39;00m\u001b[34;01m.\u001b[39;00m\u001b[34;01mconfig_manager\u001b[39;00m\u001b[38;5;250m \u001b[39m\u001b[38;5;28;01mimport\u001b[39;00m setup_logging, load_config, ChurnConfig, save_dataframe, load_dataframe\n",
      "\u001b[31mModuleNotFoundError\u001b[39m: No module named 'utils.config_manager'; 'utils' is not a package"
     ]
    }
   ],
   "source": [
    "import sys\n",
    "from pathlib import Path\n",
    "\n",
    "def setup_project_paths():\n",
    "    \"\"\"Configurar paths del proyecto\"\"\"\n",
    "    current_path = Path.cwd()\n",
    "    \n",
    "    # Buscar la raíz del proyecto (donde está src/)\n",
    "    project_root = current_path\n",
    "    while not (project_root / \"src\").exists() and project_root != project_root.parent:\n",
    "        project_root = project_root.parent\n",
    "    \n",
    "    src_path = project_root / \"src\"\n",
    "    if src_path not in [Path(p) for p in sys.path]:\n",
    "        sys.path.append(str(src_path))\n",
    "    \n",
    "    return project_root, src_path\n",
    "\n",
    "project_root, src_path = setup_project_paths()\n",
    "print(\"✅ Proyecto configurado:\", project_root)"
   ]
  },
  {
   "cell_type": "code",
   "execution_count": 22,
   "id": "921a2dac",
   "metadata": {},
   "outputs": [
    {
     "name": "stdout",
     "output_type": "stream",
     "text": [
      "Loading data...\n",
      "Data loaded successfully\n",
      "Data overview: \n",
      "\n",
      "   customerID  gender  SeniorCitizen Partner Dependents  tenure PhoneService  \\\n",
      "0  7590-VHVEG  Female              0     Yes         No       1           No   \n",
      "1  5575-GNVDE    Male              0      No         No      34          Yes   \n",
      "2  3668-QPYBK    Male              0      No         No       2          Yes   \n",
      "3  7795-CFOCW    Male              0      No         No      45           No   \n",
      "4  9237-HQITU  Female              0      No         No       2          Yes   \n",
      "5  9305-CDSKC  Female              0      No         No       8          Yes   \n",
      "6  1452-KIOVK    Male              0      No        Yes      22          Yes   \n",
      "7  6713-OKOMC  Female              0      No         No      10           No   \n",
      "8  7892-POOKP  Female              0     Yes         No      28          Yes   \n",
      "9  6388-TABGU    Male              0      No        Yes      62          Yes   \n",
      "\n",
      "      MultipleLines InternetService OnlineSecurity  ... DeviceProtection  \\\n",
      "0  No phone service             DSL             No  ...               No   \n",
      "1                No             DSL            Yes  ...              Yes   \n",
      "2                No             DSL            Yes  ...               No   \n",
      "3  No phone service             DSL            Yes  ...              Yes   \n",
      "4                No     Fiber optic             No  ...               No   \n",
      "5               Yes     Fiber optic             No  ...              Yes   \n",
      "6               Yes     Fiber optic             No  ...               No   \n",
      "7  No phone service             DSL            Yes  ...               No   \n",
      "8               Yes     Fiber optic             No  ...              Yes   \n",
      "9                No             DSL            Yes  ...               No   \n",
      "\n",
      "  TechSupport StreamingTV StreamingMovies        Contract PaperlessBilling  \\\n",
      "0          No          No              No  Month-to-month              Yes   \n",
      "1          No          No              No        One year               No   \n",
      "2          No          No              No  Month-to-month              Yes   \n",
      "3         Yes          No              No        One year               No   \n",
      "4          No          No              No  Month-to-month              Yes   \n",
      "5          No         Yes             Yes  Month-to-month              Yes   \n",
      "6          No         Yes              No  Month-to-month              Yes   \n",
      "7          No          No              No  Month-to-month               No   \n",
      "8         Yes         Yes             Yes  Month-to-month              Yes   \n",
      "9          No          No              No        One year               No   \n",
      "\n",
      "               PaymentMethod MonthlyCharges  TotalCharges Churn  \n",
      "0           Electronic check          29.85         29.85    No  \n",
      "1               Mailed check          56.95        1889.5    No  \n",
      "2               Mailed check          53.85        108.15   Yes  \n",
      "3  Bank transfer (automatic)          42.30       1840.75    No  \n",
      "4           Electronic check          70.70        151.65   Yes  \n",
      "5           Electronic check          99.65         820.5   Yes  \n",
      "6    Credit card (automatic)          89.10        1949.4    No  \n",
      "7               Mailed check          29.75         301.9    No  \n",
      "8           Electronic check         104.80       3046.05   Yes  \n",
      "9  Bank transfer (automatic)          56.15       3487.95    No  \n",
      "\n",
      "[10 rows x 21 columns]\n",
      "(7043, 21)\n",
      "<class 'pandas.core.frame.DataFrame'>\n",
      "RangeIndex: 7043 entries, 0 to 7042\n",
      "Data columns (total 21 columns):\n",
      " #   Column            Non-Null Count  Dtype  \n",
      "---  ------            --------------  -----  \n",
      " 0   customerID        7043 non-null   object \n",
      " 1   gender            7043 non-null   object \n",
      " 2   SeniorCitizen     7043 non-null   int64  \n",
      " 3   Partner           7043 non-null   object \n",
      " 4   Dependents        7043 non-null   object \n",
      " 5   tenure            7043 non-null   int64  \n",
      " 6   PhoneService      7043 non-null   object \n",
      " 7   MultipleLines     7043 non-null   object \n",
      " 8   InternetService   7043 non-null   object \n",
      " 9   OnlineSecurity    7043 non-null   object \n",
      " 10  OnlineBackup      7043 non-null   object \n",
      " 11  DeviceProtection  7043 non-null   object \n",
      " 12  TechSupport       7043 non-null   object \n",
      " 13  StreamingTV       7043 non-null   object \n",
      " 14  StreamingMovies   7043 non-null   object \n",
      " 15  Contract          7043 non-null   object \n",
      " 16  PaperlessBilling  7043 non-null   object \n",
      " 17  PaymentMethod     7043 non-null   object \n",
      " 18  MonthlyCharges    7043 non-null   float64\n",
      " 19  TotalCharges      7043 non-null   object \n",
      " 20  Churn             7043 non-null   object \n",
      "dtypes: float64(1), int64(2), object(18)\n",
      "memory usage: 1.1+ MB\n",
      "None\n",
      "Data types: \n",
      "\n",
      "customerID           object\n",
      "gender               object\n",
      "SeniorCitizen         int64\n",
      "Partner              object\n",
      "Dependents           object\n",
      "tenure                int64\n",
      "PhoneService         object\n",
      "MultipleLines        object\n",
      "InternetService      object\n",
      "OnlineSecurity       object\n",
      "OnlineBackup         object\n",
      "DeviceProtection     object\n",
      "TechSupport          object\n",
      "StreamingTV          object\n",
      "StreamingMovies      object\n",
      "Contract             object\n",
      "PaperlessBilling     object\n",
      "PaymentMethod        object\n",
      "MonthlyCharges      float64\n",
      "TotalCharges         object\n",
      "Churn                object\n",
      "dtype: object\n",
      "Data missing values: \n",
      "\n",
      "customerID          0\n",
      "gender              0\n",
      "SeniorCitizen       0\n",
      "Partner             0\n",
      "Dependents          0\n",
      "tenure              0\n",
      "PhoneService        0\n",
      "MultipleLines       0\n",
      "InternetService     0\n",
      "OnlineSecurity      0\n",
      "OnlineBackup        0\n",
      "DeviceProtection    0\n",
      "TechSupport         0\n",
      "StreamingTV         0\n",
      "StreamingMovies     0\n",
      "Contract            0\n",
      "PaperlessBilling    0\n",
      "PaymentMethod       0\n",
      "MonthlyCharges      0\n",
      "TotalCharges        0\n",
      "Churn               0\n",
      "dtype: int64\n",
      "Data duplicated values: \n",
      "\n",
      "0\n",
      "Contando nuestra variable objetivo: \n",
      "\n",
      "Churn\n",
      "No     5174\n",
      "Yes    1869\n",
      "Name: count, dtype: int64\n",
      "Distribución de la variable objetivo: \n",
      "\n",
      "Churn\n",
      "No     0.73463\n",
      "Yes    0.26537\n",
      "Name: proportion, dtype: float64\n"
     ]
    },
    {
     "data": {
      "text/plain": [
       "np.int64(72)"
      ]
     },
     "execution_count": 22,
     "metadata": {},
     "output_type": "execute_result"
    }
   ],
   "source": [
    "from data.load_data import load_data\n",
    "\n",
    "df = load_data()\n",
    "\n",
    "print(\"Data overview: \\n\")\n",
    "# ¿Qué vamos a hacer?\n",
    "print(df.head(10))\n",
    "print(df.shape)  # ¿Cuántos clientes y variables?\n",
    "print(df.info()) # ¿Qué tipo de información tenemos?\n",
    "\n",
    "print(\"Data types: \\n\")\n",
    "print(df.dtypes)\n",
    "\n",
    "print(\"Data missing values: \\n\")\n",
    "print(df.isnull().sum()) #no hay missing values\n",
    "\n",
    "print(\"Data duplicated values: \\n\")\n",
    "print(df.duplicated().sum()) #no hay duplicated values\n",
    "\n",
    "print(\"Contando nuestra variable objetivo: \\n\")\n",
    "print(df['Churn'].value_counts())\n",
    "\n",
    "print(\"Distribución de la variable objetivo: \\n\")\n",
    "print(df['Churn'].value_counts(normalize=True)) #aprox un 26.5% de churn\n",
    "\n",
    "df['tenure'].max()\n",
    "\n",
    "\n",
    "\n",
    "\n",
    "\n",
    "\n",
    "\n",
    "\n"
   ]
  },
  {
   "cell_type": "code",
   "execution_count": 20,
   "id": "997dc902",
   "metadata": {},
   "outputs": [
    {
     "name": "stdout",
     "output_type": "stream",
     "text": [
      "Se van mas quienes pagan menos o mas:\n",
      "Se van mas clientes que son mas antiguos:\n"
     ]
    },
    {
     "data": {
      "text/plain": [
       "Churn\n",
       "No     37.569965\n",
       "Yes    17.979133\n",
       "Name: tenure, dtype: float64"
      ]
     },
     "execution_count": 20,
     "metadata": {},
     "output_type": "execute_result"
    }
   ],
   "source": [
    "print(\"Se van mas quienes pagan menos o mas:\")\n",
    "df.groupby('Churn')['MonthlyCharges'].mean()\n",
    "\n",
    "print(\"Se van mas clientes que son mas antiguos:\")\n",
    "df.groupby('Churn')['tenure'].mean()"
   ]
  },
  {
   "cell_type": "code",
   "execution_count": 24,
   "id": "cf9f1876",
   "metadata": {},
   "outputs": [
    {
     "name": "stdout",
     "output_type": "stream",
     "text": [
      "📊 Análisis por segmento:\n",
      "                         Churn  MonthlyCharges\n",
      "tenure_group                                  \n",
      "Nuevos (<1 año)          47.68           56.17\n",
      "Establecidos (1-2 años)  28.71           61.36\n",
      "Veteranos (2+ años)      14.04           70.61\n"
     ]
    },
    {
     "name": "stderr",
     "output_type": "stream",
     "text": [
      "C:\\Users\\diego\\AppData\\Local\\Temp\\ipykernel_3836\\2395711629.py:9: FutureWarning: The default of observed=False is deprecated and will be changed to True in a future version of pandas. Pass observed=False to retain current behavior or observed=True to adopt the future default and silence this warning.\n",
      "  analysis = df.groupby('tenure_group').agg({\n"
     ]
    }
   ],
   "source": [
    "import pandas as pd\n",
    "\n",
    "# Crear segmentos de antigüedad\n",
    "df['tenure_group'] = pd.cut(df['tenure'], \n",
    "                           bins=[0, 12, 24, 72], \n",
    "                           labels=['Nuevos (<1 año)', 'Establecidos (1-2 años)', 'Veteranos (2+ años)'])\n",
    "\n",
    "# Ver churn y precio por segmento\n",
    "analysis = df.groupby('tenure_group').agg({\n",
    "    'Churn': lambda x: (x == 'Yes').mean() * 100,  # % de churn\n",
    "    'MonthlyCharges': 'mean'\n",
    "}).round(2)\n",
    "\n",
    "print(\"📊 Análisis por segmento:\")\n",
    "print(analysis)"
   ]
  },
  {
   "cell_type": "code",
   "execution_count": 32,
   "id": "5b84bf6e",
   "metadata": {},
   "outputs": [
    {
     "name": "stdout",
     "output_type": "stream",
     "text": [
      "Servicios disponibles: ['PhoneService', 'MultipleLines', 'InternetService', 'OnlineSecurity', 'OnlineBackup', 'DeviceProtection', 'TechSupport', 'StreamingTV', 'StreamingMovies']\n",
      "Análisis por segmento:\n",
      "                         Churn  PhoneService  MultipleLines  InternetService  \\\n",
      "tenure_group                                                                   \n",
      "Nuevos (<1 año)          47.68         90.02          22.76              0.0   \n",
      "Establecidos (1-2 años)  28.71         91.21          36.82              0.0   \n",
      "Veteranos (2+ años)      14.04         90.27          54.66              0.0   \n",
      "\n",
      "                         OnlineSecurity  OnlineBackup  DeviceProtection  \\\n",
      "tenure_group                                                              \n",
      "Nuevos (<1 año)                   12.28         15.49             14.94   \n",
      "Establecidos (1-2 años)           22.56         24.80             25.49   \n",
      "Veteranos (2+ años)               39.58         47.85             47.80   \n",
      "\n",
      "                         TechSupport  StreamingTV  StreamingMovies  \n",
      "tenure_group                                                        \n",
      "Nuevos (<1 año)                12.83        22.39            22.71  \n",
      "Establecidos (1-2 años)        21.09        32.52            32.42  \n",
      "Veteranos (2+ años)            40.31        49.13            49.70  \n"
     ]
    },
    {
     "name": "stderr",
     "output_type": "stream",
     "text": [
      "C:\\Users\\diego\\AppData\\Local\\Temp\\ipykernel_3836\\1422432276.py:20: FutureWarning: The default of observed=False is deprecated and will be changed to True in a future version of pandas. Pass observed=False to retain current behavior or observed=True to adopt the future default and silence this warning.\n",
      "  analysis = df.groupby('tenure_group').agg({\n"
     ]
    }
   ],
   "source": [
    "#ver cuantos servicios tienen los clientes con mas de 2 anos de antiguedad\n",
    "\n",
    "col_services = ['PhoneService', 'MultipleLines', 'InternetService', 'OnlineSecurity', 'OnlineBackup', 'DeviceProtection', 'TechSupport', 'StreamingTV', 'StreamingMovies']\n",
    "\n",
    "# ¿Cuántos servicios tiene cada grupo?\n",
    "# Primero, identifiquemos qué columnas son servicios\n",
    "service_columns = [col for col in df.columns if col in [\n",
    "    'PhoneService', 'MultipleLines', 'InternetService', \n",
    "    'OnlineSecurity', 'OnlineBackup', 'DeviceProtection',\n",
    "    'TechSupport', 'StreamingTV', 'StreamingMovies'\n",
    "]]\n",
    "\n",
    "print(\"Servicios disponibles:\", service_columns)\n",
    "\n",
    "# Crear segmentos de antigüedad\n",
    "df['tenure_group'] = pd.cut(df['tenure'], \n",
    "                           bins=[0, 12, 24, 72], \n",
    "                           labels=['Nuevos (<1 año)', 'Establecidos (1-2 años)', 'Veteranos (2+ años)'])\n",
    "\n",
    "analysis = df.groupby('tenure_group').agg({\n",
    "    'Churn': lambda x: (x == 'Yes').mean() * 100,  # % de churn\n",
    "    'PhoneService': lambda x: (x == 'Yes').mean() * 100,\n",
    "    'MultipleLines': lambda x: (x == 'Yes').mean() * 100,\n",
    "    'InternetService': lambda x: (x == 'Yes').mean() * 100,\n",
    "    'OnlineSecurity': lambda x: (x == 'Yes').mean() * 100,\n",
    "    'OnlineBackup': lambda x: (x == 'Yes').mean() * 100,\n",
    "    'DeviceProtection': lambda x: (x == 'Yes').mean() * 100,\n",
    "    'TechSupport': lambda x: (x == 'Yes').mean() * 100,\n",
    "    'StreamingTV': lambda x: (x == 'Yes').mean() * 100,\n",
    "    'StreamingMovies': lambda x: (x == 'Yes').mean() * 100\n",
    "}).round(2)\n",
    "\n",
    "print(\"Análisis por segmento:\")\n",
    "print(analysis)"
   ]
  },
  {
   "cell_type": "code",
   "execution_count": 29,
   "id": "51a48c72",
   "metadata": {},
   "outputs": [
    {
     "name": "stdout",
     "output_type": "stream",
     "text": [
      "PhoneService unique values: ['No' 'Yes']\n",
      "MultipleLines unique values: ['No phone service' 'No' 'Yes']\n",
      "InternetService unique values: ['DSL' 'Fiber optic' 'No']\n",
      "OnlineSecurity unique values: ['No' 'Yes' 'No internet service']\n",
      "OnlineBackup unique values: ['Yes' 'No' 'No internet service']\n",
      "DeviceProtection unique values: ['No' 'Yes' 'No internet service']\n",
      "TechSupport unique values: ['No' 'Yes' 'No internet service']\n",
      "StreamingTV unique values: ['No' 'Yes' 'No internet service']\n",
      "StreamingMovies unique values: ['No' 'Yes' 'No internet service']\n"
     ]
    }
   ],
   "source": [
    "col_services = ['PhoneService', 'MultipleLines', 'InternetService', 'OnlineSecurity', 'OnlineBackup', 'DeviceProtection', 'TechSupport', 'StreamingTV', 'StreamingMovies']\n",
    "\n",
    "for service in col_services:\n",
    "    print(f\"{service} unique values:\", df[service].unique())"
   ]
  },
  {
   "cell_type": "code",
   "execution_count": 39,
   "id": "2cb3ba87",
   "metadata": {},
   "outputs": [
    {
     "name": "stdout",
     "output_type": "stream",
     "text": [
      "                Churn  MonthlyCharges\n",
      "total_services                       \n",
      "0               43.75           24.90\n",
      "1               21.11           30.08\n",
      "2               32.83           51.13\n",
      "3               36.48           69.36\n",
      "4               31.34           78.73\n",
      "5               25.55           86.31\n",
      "6               22.49           93.64\n",
      "7               12.41           99.43\n",
      "8                5.29          104.63\n"
     ]
    }
   ],
   "source": [
    "df['total_services'] = (\n",
    "    (df['PhoneService'] == 'Yes').astype(int) +\n",
    "    (df['MultipleLines'] == 'Yes').astype(int) +\n",
    "    (df['InternetService'] == 'Yes').astype(int) +\n",
    "    (df['OnlineSecurity'] == 'Yes').astype(int) +\n",
    "    (df['OnlineBackup'] == 'Yes').astype(int) +\n",
    "    (df['DeviceProtection'] == 'Yes').astype(int) +\n",
    "    (df['TechSupport'] == 'Yes').astype(int) +\n",
    "    (df['StreamingTV'] == 'Yes').astype(int) +\n",
    "    (df['StreamingMovies'] == 'Yes').astype(int)\n",
    ")\n",
    "\n",
    "analysis = df.groupby('total_services').agg({\n",
    "    'Churn': lambda x: (x == 'Yes').mean() * 100,\n",
    "    'MonthlyCharges': 'mean'\n",
    "}).round(2)\n",
    "\n",
    "print(analysis)"
   ]
  },
  {
   "cell_type": "code",
   "execution_count": 45,
   "id": "b0b973c5",
   "metadata": {},
   "outputs": [
    {
     "name": "stdout",
     "output_type": "stream",
     "text": [
      "                                        Churn\n",
      "tenure_group            total_services       \n",
      "Nuevos (<1 año)         0               54.24\n",
      "                        1               36.16\n",
      "                        2               54.46\n",
      "                        3               54.55\n",
      "                        4               53.88\n",
      "                        5               64.29\n",
      "                        6               51.61\n",
      "                        7               75.00\n",
      "                        8                 NaN\n",
      "Establecidos (1-2 años) 0               16.67\n",
      "                        1                8.98\n",
      "                        2               28.65\n",
      "                        3               36.89\n",
      "                        4               39.89\n",
      "                        5               37.17\n",
      "                        6               41.51\n",
      "                        7               14.29\n",
      "                        8                0.00\n",
      "Veteranos (2+ años)     0               11.11\n",
      "                        1                4.30\n",
      "                        2                9.21\n",
      "                        3               20.64\n",
      "                        4               18.88\n",
      "                        5               17.33\n",
      "                        6               19.32\n",
      "                        7               11.72\n",
      "                        8                5.34\n"
     ]
    },
    {
     "name": "stderr",
     "output_type": "stream",
     "text": [
      "C:\\Users\\diego\\AppData\\Local\\Temp\\ipykernel_3836\\3124277229.py:5: FutureWarning: The default of observed=False is deprecated and will be changed to True in a future version of pandas. Pass observed=False to retain current behavior or observed=True to adopt the future default and silence this warning.\n",
      "  analysis = df.groupby(['tenure_group', 'total_services']).agg({\n"
     ]
    }
   ],
   "source": [
    "# # Algo como:\n",
    "# pd.crosstab([df['tenure_group'], df['total_services']], df['Churn'])\n",
    "\n",
    "# Agrupando por ambas variables\n",
    "analysis = df.groupby(['tenure_group', 'total_services']).agg({\n",
    "    'Churn': lambda x: (x == 'Yes').mean() * 100\n",
    "}).round(2)\n",
    "\n",
    "print(analysis)"
   ]
  },
  {
   "cell_type": "code",
   "execution_count": 50,
   "id": "15829e76",
   "metadata": {},
   "outputs": [
    {
     "name": "stdout",
     "output_type": "stream",
     "text": [
      "                                        Churn  MonthlyCharges\n",
      "Contract       tenure_group                                  \n",
      "Month-to-month Nuevos (<1 año)          51.35           58.22\n",
      "               Establecidos (1-2 años)  37.72           69.31\n",
      "               Veteranos (2+ años)      30.86           78.78\n",
      "One year       Nuevos (<1 año)          10.57           35.93\n",
      "               Establecidos (1-2 años)   8.12           44.88\n",
      "               Veteranos (2+ años)      11.89           71.65\n",
      "Two year       Nuevos (<1 año)           0.00           28.77\n",
      "               Establecidos (1-2 años)   0.00           32.31\n",
      "               Veteranos (2+ años)       3.12           63.76\n"
     ]
    },
    {
     "name": "stderr",
     "output_type": "stream",
     "text": [
      "C:\\Users\\diego\\AppData\\Local\\Temp\\ipykernel_3836\\23637946.py:3: FutureWarning: The default of observed=False is deprecated and will be changed to True in a future version of pandas. Pass observed=False to retain current behavior or observed=True to adopt the future default and silence this warning.\n",
      "  analysis = df.groupby(['Contract', 'tenure_group']).agg({\n"
     ]
    }
   ],
   "source": [
    "df['Contract'].unique()\n",
    "\n",
    "analysis = df.groupby(['Contract', 'tenure_group']).agg({\n",
    "    'Churn': lambda x: (x == 'Yes').mean() * 100,\n",
    "    'MonthlyCharges': 'mean'\n",
    "}).round(2)\n",
    "\n",
    "print(analysis)"
   ]
  },
  {
   "cell_type": "code",
   "execution_count": 55,
   "id": "c4442848",
   "metadata": {},
   "outputs": [
    {
     "name": "stdout",
     "output_type": "stream",
     "text": [
      "        Churn  total_services  MonthlyCharges\n",
      "gender                                       \n",
      "Female  26.92            3.40           65.20\n",
      "Male    26.16            3.33           64.33\n"
     ]
    }
   ],
   "source": [
    "analysis = df.groupby('gender').agg({\n",
    "    'Churn': lambda x: (x == 'Yes').mean() * 100,\n",
    "    'total_services': 'mean',\n",
    "    'MonthlyCharges': 'mean'\n",
    "}).round(2)\n",
    "\n",
    "print(analysis)"
   ]
  },
  {
   "cell_type": "code",
   "execution_count": 58,
   "id": "c815a0b6",
   "metadata": {},
   "outputs": [
    {
     "name": "stdout",
     "output_type": "stream",
     "text": [
      "PaymentMethod \n",
      "\n",
      "                           Churn  total_services  MonthlyCharges\n",
      "PaymentMethod                                                   \n",
      "Bank transfer (automatic)  16.71            3.85           67.19\n",
      "Credit card (automatic)    15.24            3.88           66.51\n",
      "Electronic check           45.29            3.47           76.26\n",
      "Mailed check               19.11            2.26           43.92\n",
      "SeniorCitizen \n",
      "\n",
      "               Churn  total_services  MonthlyCharges\n",
      "SeniorCitizen                                       \n",
      "0              23.61            3.28           61.85\n",
      "1              41.68            3.81           79.82\n",
      "Partner/Dependents \n",
      "\n",
      "         Churn  total_services  MonthlyCharges\n",
      "Partner                                       \n",
      "No       32.96            2.93           61.95\n",
      "Yes      19.66            3.83           67.78\n"
     ]
    }
   ],
   "source": [
    "\n",
    "print(\"PaymentMethod \\n\")\n",
    "\n",
    "# PaymentMethod\n",
    "analysisPaymentMethod = df.groupby('PaymentMethod').agg({\n",
    "    'Churn': lambda x: (x == 'Yes').mean() * 100,\n",
    "    'total_services': 'mean',\n",
    "    'MonthlyCharges': 'mean'\n",
    "}).round(2)\n",
    "\n",
    "print(analysisPaymentMethod)\n",
    "\n",
    "print(\"SeniorCitizen \\n\")\n",
    "\n",
    "# SeniorCitizen \n",
    "analysisSeniorCitizen = df.groupby('SeniorCitizen').agg({\n",
    "    'Churn': lambda x: (x == 'Yes').mean() * 100,\n",
    "    'total_services': 'mean',\n",
    "    'MonthlyCharges': 'mean'\n",
    "}).round(2)\n",
    "\n",
    "print(analysisSeniorCitizen)\n",
    "\n",
    "print(\"Partner/Dependents \\n\")\n",
    "# Partner/Dependents\n",
    "analysisPartner = df.groupby('Partner').agg({\n",
    "    'Churn': lambda x: (x == 'Yes').mean() * 100,\n",
    "    'total_services': 'mean',\n",
    "    'MonthlyCharges': 'mean'\n",
    "}).round(2)\n",
    "\n",
    "print(analysisPartner)\n",
    "\n"
   ]
  },
  {
   "cell_type": "code",
   "execution_count": null,
   "id": "68ae13b2",
   "metadata": {},
   "outputs": [
    {
     "name": "stdout",
     "output_type": "stream",
     "text": [
      "            Churn  total_services  MonthlyCharges\n",
      "Dependents                                       \n",
      "No          31.28            3.33           67.00\n",
      "Yes         15.45            3.43           59.52\n"
     ]
    }
   ],
   "source": [
    "analysisDependents = df.groupby('Dependents').agg({\n",
    "    'Churn': lambda x: (x == 'Yes').mean() * 100,\n",
    "    'total_services': 'mean',\n",
    "    'MonthlyCharges': 'mean'\n",
    "}).round(2)\n",
    "\n",
    "print(analysisDependents)\n",
    "\n"
   ]
  },
  {
   "cell_type": "code",
   "execution_count": 60,
   "id": "f57c4b37",
   "metadata": {},
   "outputs": [
    {
     "name": "stdout",
     "output_type": "stream",
     "text": [
      "                  Churn  total_services  MonthlyCharges\n",
      "PaperlessBilling                                       \n",
      "No                16.33            2.85           51.99\n",
      "Yes               33.57            3.71           73.55\n"
     ]
    }
   ],
   "source": [
    "analysisPaperlessBilling = df.groupby('PaperlessBilling').agg({\n",
    "    'Churn': lambda x: (x == 'Yes').mean() * 100,\n",
    "    'total_services': 'mean',\n",
    "    'MonthlyCharges': 'mean'\n",
    "}).round(2)\n",
    "\n",
    "print(analysisPaperlessBilling)\n",
    "\n",
    "\n",
    "\n",
    "\n"
   ]
  },
  {
   "cell_type": "code",
   "execution_count": 61,
   "id": "95a9f5a8",
   "metadata": {},
   "outputs": [
    {
     "name": "stdout",
     "output_type": "stream",
     "text": [
      "   customerID  gender  SeniorCitizen Partner Dependents  tenure PhoneService  \\\n",
      "0  7590-VHVEG  Female              0     Yes         No       1           No   \n",
      "1  5575-GNVDE    Male              0      No         No      34          Yes   \n",
      "2  3668-QPYBK    Male              0      No         No       2          Yes   \n",
      "3  7795-CFOCW    Male              0      No         No      45           No   \n",
      "4  9237-HQITU  Female              0      No         No       2          Yes   \n",
      "\n",
      "      MultipleLines InternetService OnlineSecurity  ... StreamingTV  \\\n",
      "0  No phone service             DSL             No  ...          No   \n",
      "1                No             DSL            Yes  ...          No   \n",
      "2                No             DSL            Yes  ...          No   \n",
      "3  No phone service             DSL            Yes  ...          No   \n",
      "4                No     Fiber optic             No  ...          No   \n",
      "\n",
      "  StreamingMovies        Contract PaperlessBilling              PaymentMethod  \\\n",
      "0              No  Month-to-month              Yes           Electronic check   \n",
      "1              No        One year               No               Mailed check   \n",
      "2              No  Month-to-month              Yes               Mailed check   \n",
      "3              No        One year               No  Bank transfer (automatic)   \n",
      "4              No  Month-to-month              Yes           Electronic check   \n",
      "\n",
      "  MonthlyCharges TotalCharges Churn         tenure_group total_services  \n",
      "0          29.85        29.85    No      Nuevos (<1 año)              1  \n",
      "1          56.95       1889.5    No  Veteranos (2+ años)              3  \n",
      "2          53.85       108.15   Yes      Nuevos (<1 año)              3  \n",
      "3          42.30      1840.75    No  Veteranos (2+ años)              3  \n",
      "4          70.70       151.65   Yes      Nuevos (<1 año)              1  \n",
      "\n",
      "[5 rows x 23 columns]\n"
     ]
    }
   ],
   "source": [
    "print(df.head())"
   ]
  },
  {
   "cell_type": "code",
   "execution_count": 62,
   "id": "8668c033",
   "metadata": {},
   "outputs": [],
   "source": [
    "df.to_csv('../../data/processed/telecom_churn_with_features.csv', index=False)"
   ]
  }
 ],
 "metadata": {
  "kernelspec": {
   "display_name": "venv",
   "language": "python",
   "name": "python3"
  },
  "language_info": {
   "codemirror_mode": {
    "name": "ipython",
    "version": 3
   },
   "file_extension": ".py",
   "mimetype": "text/x-python",
   "name": "python",
   "nbconvert_exporter": "python",
   "pygments_lexer": "ipython3",
   "version": "3.13.5"
  }
 },
 "nbformat": 4,
 "nbformat_minor": 5
}
